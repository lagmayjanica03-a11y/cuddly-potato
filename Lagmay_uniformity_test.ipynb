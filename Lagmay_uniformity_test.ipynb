{
  "nbformat": 4,
  "nbformat_minor": 0,
  "metadata": {
    "colab": {
      "provenance": [],
      "authorship_tag": "ABX9TyPnf/MCZiTdvvphHKe9C505",
      "include_colab_link": true
    },
    "kernelspec": {
      "name": "python3",
      "display_name": "Python 3"
    },
    "language_info": {
      "name": "python"
    }
  },
  "cells": [
    {
      "cell_type": "markdown",
      "metadata": {
        "id": "view-in-github",
        "colab_type": "text"
      },
      "source": [
        "<a href=\"https://colab.research.google.com/github/lagmayjanica03-a11y/cuddly-potato/blob/main/Lagmay_uniformity_test.ipynb\" target=\"_parent\"><img src=\"https://colab.research.google.com/assets/colab-badge.svg\" alt=\"Open In Colab\"/></a>"
      ]
    },
    {
      "cell_type": "code",
      "execution_count": null,
      "metadata": {
        "colab": {
          "base_uri": "https://localhost:8080/",
          "height": 1000
        },
        "id": "gOvS4L07iPoL",
        "outputId": "a16dcff6-ed52-4564-befe-12ed86eb9e55"
      },
      "outputs": [
        {
          "output_type": "stream",
          "name": "stdout",
          "text": [
            "3.4924596564343477e-09\n",
            "2.619344742325761e-07\n",
            "1.9645085567443206e-05\n",
            "0.0014733814175582405\n",
            "0.11050360631686804\n",
            "0.28777047376510245\n",
            "0.5827855323826827\n",
            "0.708914928701201\n",
            "0.1686196525900716\n",
            "0.6464739442553715\n",
            "0.48554581915286643\n",
            "0.41593643646498046\n",
            "0.1952327348735336\n",
            "0.6424551155150193\n",
            "0.18413366362644995\n",
            "0.8100247719837468\n",
            "0.75185789878101\n",
            "0.3893424085757427\n",
            "0.20068064318070217\n",
            "0.051048238552663584\n",
            "0.8286178914497689\n",
            "0.14634185873267327\n",
            "0.9756394049504955\n",
            "0.17295537128716493\n",
            "0.9716528465373687\n",
            "0.8739634903026575\n",
            "0.5472617726993103\n",
            "0.044632952448275386\n",
            "0.3474714336206538\n",
            "0.06035752154903371\n",
            "0.5268141161775283\n",
            "0.5110587133146165\n",
            "0.329403498596234\n",
            "0.705262394717551\n",
            "0.8946796038163265\n",
            "0.10097028622448924\n",
            "0.5727714668366926\n",
            "0.9578600127519388\n",
            "0.8395009563954086\n",
            "0.9625717296556437\n",
            "0.19287972417328494\n",
            "0.4659793129963704\n",
            "0.9484484747277798\n",
            "0.13363560458348858\n",
            "0.022670343761644486\n",
            "0.7002757821233365\n",
            "0.5206836592502351\n",
            "0.05127444376762698\n",
            "0.8455832825720232\n",
            "0.41874619290174275\n",
            "0.4059644676307051\n",
            "0.4473350723028812\n",
            "0.5501304227160897\n",
            "0.2597817037067291\n",
            "0.4836277780046816\n",
            "0.27208335035111914\n",
            "0.4062512763339334\n",
            "0.46884572504500194\n",
            "0.16342937837514532\n",
            "0.2572033781358988\n",
            "0.29025336019240944\n",
            "0.7690020144307064\n",
            "0.6751510823029797\n",
            "0.6363311727234773\n",
            "0.7248379542607991\n",
            "0.3628465695599311\n",
            "0.21349271699483166\n",
            "0.01195377461237543\n",
            "0.8965330959281572\n",
            "0.2399821946117944\n",
            "0.9986645958845805\n",
            "0.8998446913435332\n",
            "0.48835185076498977\n",
            "0.6263888073742337\n",
            "0.9791605530675317\n",
            "0.4370414800648771\n",
            "0.77811100486578\n",
            "0.3583253649335007\n",
            "0.8744023700125526\n",
            "0.5801777509414487\n",
            "0.5133313206086547\n",
            "0.4998490456491006\n",
            "0.48867842368254366\n",
            "0.6508817761907735\n",
            "0.816133214308011\n",
            "0.2099910731008235\n",
            "0.7493304825617608\n",
            "0.1997861921320605\n",
            "0.9839644099045379\n",
            "0.7973307428403436\n",
            "0.7998057130257625\n",
            "0.9854284769321925\n",
            "0.9071357699144332\n",
            "0.03518274358249397\n",
            "0.6387057686870479\n",
            "0.9029326515285916\n",
            "0.7199488646443695\n",
            "0.9961648483277135\n",
            "0.7123636245785112\n",
            "0.42727184338833757\n",
            "R =  [8 3 4 7 4 5 2 3 7 7 5 4 5 2 7 5 5 5 3 9]\n",
            "V =  14.8\n"
          ]
        },
        {
          "output_type": "execute_result",
          "data": {
            "text/plain": [
              "<BarContainer object of 20 artists>"
            ]
          },
          "metadata": {},
          "execution_count": 1
        },
        {
          "output_type": "display_data",
          "data": {
            "text/plain": [
              "<Figure size 640x480 with 1 Axes>"
            ],
            "image/png": "[encoded data removed]"
          },
          "metadata": {}
        }
      ],
      "source": [
        "import numpy as np\n",
        "a = 75\n",
        "c = 0\n",
        "m = 2**(31) -1\n",
        "x  = 0.1\n",
        "u=np.array([])\n",
        "\n",
        "for i in range(0,100):\n",
        "    x= np.mod((a*x+c),m)\n",
        "    u= np.append(u,x/m)\n",
        "    print(u[i])\n",
        "\n",
        "N=100\n",
        "s=20\n",
        "Ns =N/s\n",
        "S = np.arange(0, 1, 0.05)\n",
        "counts = np.empty(S.shape, dtype=int)\n",
        "V=0\n",
        "for i in range(0,20):\n",
        "    counts[i] = len(np.where((u >= S[i]) & (u < S[i]+0.05))[0])\n",
        "    V=V+(counts[i]-Ns)**2 / Ns\n",
        "\n",
        "print(\"R = \",counts)\n",
        "print(\"V = \", V)\n",
        "\n",
        "import matplotlib.pyplot as plt\n",
        "Ypos = np.arange(len(counts))\n",
        "\n",
        "plt.bar(Ypos,counts)"
      ]
    }
  ]
}