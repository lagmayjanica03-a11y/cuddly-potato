{
  "nbformat": 4,
  "nbformat_minor": 0,
  "metadata": {
    "colab": {
      "provenance": [],
      "authorship_tag": "ABX9TyNWgllbj6d0vDGJialnp+Bm",
      "include_colab_link": true
    },
    "kernelspec": {
      "name": "python3",
      "display_name": "Python 3"
    },
    "language_info": {
      "name": "python"
    }
  },
  "cells": [
    {
      "cell_type": "markdown",
      "metadata": {
        "id": "view-in-github",
        "colab_type": "text"
      },
      "source": [
        "<a href=\"https://colab.research.google.com/github/lagmayjanica03-a11y/cuddly-potato/blob/main/Lagmay_Random_password_generator.ipynb\" target=\"_parent\"><img src=\"https://colab.research.google.com/assets/colab-badge.svg\" alt=\"Open In Colab\"/></a>"
      ]
    },
    {
      "cell_type": "code",
      "execution_count": 1,
      "metadata": {
        "id": "_Wxld_oVjyXL",
        "colab": {
          "base_uri": "https://localhost:8080/"
        },
        "outputId": "1859714c-02d4-45f4-a275-caa30f7a5b35"
      },
      "outputs": [
        {
          "output_type": "stream",
          "name": "stdout",
          "text": [
            "How long should your password be?: 12\n",
            "lK86%g)UdoF6\n"
          ]
        }
      ],
      "source": [
        "import string\n",
        "import random\n",
        "\n",
        "\n",
        "char_set = list(string.ascii_letters + string.digits + \"()!$%^&*@#\")\n",
        "\n",
        "password_length = int(input(\"How long should your password be?: \"))\n",
        "\n",
        "random.shuffle(char_set)\n",
        "\n",
        "password = []\n",
        "for i in range(password_length):\n",
        "\tpassword.append(random.choice(char_set))\n",
        "\n",
        "random.shuffle(password)\n",
        "\n",
        "print(\"\".join(password))\n",
        "\n"
      ]
    }
  ]
}