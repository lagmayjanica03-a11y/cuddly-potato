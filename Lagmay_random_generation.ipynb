{
  "nbformat": 4,
  "nbformat_minor": 0,
  "metadata": {
    "colab": {
      "provenance": [],
      "authorship_tag": "ABX9TyMRCCtiDMke/RuyVXVOSOsu",
      "include_colab_link": true
    },
    "kernelspec": {
      "name": "python3",
      "display_name": "Python 3"
    },
    "language_info": {
      "name": "python"
    }
  },
  "cells": [
    {
      "cell_type": "markdown",
      "metadata": {
        "id": "view-in-github",
        "colab_type": "text"
      },
      "source": [
        "<a href=\"https://colab.research.google.com/github/lagmayjanica03-a11y/cuddly-potato/blob/main/Lagmay_random_generation.ipynb\" target=\"_parent\"><img src=\"https://colab.research.google.com/assets/colab-badge.svg\" alt=\"Open In Colab\"/></a>"
      ]
    },
    {
      "cell_type": "code",
      "execution_count": null,
      "metadata": {
        "colab": {
          "base_uri": "https://localhost:8080/"
        },
        "id": "JdqQTFCOjCGk",
        "outputId": "35fd84d9-d33f-4c00-a330-993df2175a7d"
      },
      "outputs": [
        {
          "output_type": "stream",
          "name": "stdout",
          "text": [
            "0.4844 0.4692 0.1081 0.5754 0.3247 0.2830 0.5931 0.8763 0.7874 0.7360 0.9536 0.0554 0.9635 0.4442 0.8518 0.9937 0.1029 0.3683 0.6466 0.0938 \n",
            "0.1344 0.8474 0.7638 0.2551 0.4954 0.4495 0.6516 0.7887 0.0939 0.0283 0.8358 0.4328 0.7623 0.0021 0.4454 0.7215 0.2288 0.9453 0.9014 0.0306 \n",
            "3.5191 54.5998 93.9758 38.7392 22.4433 42.7895 3.8750 22.9475 44.3509 50.0854 24.0754 23.8558 22.6593 46.5007 29.6884 3.1275 83.9202 56.0890 64.5871 19.4047 \n",
            "85 -25 -70 90 -15 84 82 28 8 29 71 -52 -23 -28 50 27 29 0 50 -92 \n",
            "75 35 60 65 25 55 85 55 10 70 80 15 25 80 60 55 75 0 75 5 \n",
            "Randomly selected item from Cities list is -  Moskov\n",
            "Randomly selected item from Cities list is -  Toronto\n",
            "Randomly selected item from Cities list is -  Toronto\n",
            "Randomly selected item from Cities list is -  Toronto\n",
            "Randomly selected item from Cities list is -  Paris\n",
            "Randomly selected item from Cities list is -  London\n",
            "Randomly selected item from Cities list is -  London\n",
            "Randomly selected item from Cities list is -  Tokio\n",
            "Randomly selected item from Cities list is -  Berlin\n",
            "Randomly selected item from Cities list is -  Rome\n",
            "Initial Data List =  range(10, 100, 10)\n",
            "Sample Data List =  [40, 90, 80, 50, 30]\n"
          ]
        }
      ],
      "source": [
        "import random\n",
        "\n",
        "for i in range(20):\n",
        "    print('%05.4f' % random.random(), end=' ')\n",
        "print()\n",
        "\n",
        "random.seed(1)\n",
        "\n",
        "for i in range(20):\n",
        "    print('%05.4f' % random.random(), end=' ')\n",
        "print()\n",
        "\n",
        "for i in range(20):\n",
        "    print('%6.4f' %random.uniform(1, 100), end=' ')\n",
        "print()\n",
        "\n",
        "\n",
        "for i in range(20):\n",
        "    print(random.randint(-100, 100), end=' ')\n",
        "print()\n",
        "\n",
        "for i in range(20):\n",
        "    print(random.randrange(0, 100,5), end=' ')\n",
        "print()\n",
        "\n",
        "CitiesList = ['Rome','New York','London','Berlin','Moskov', 'Los Angeles','Paris','Madrid','Tokio','Toronto']\n",
        "for i in range(10):\n",
        "    CitiesItem = random.choice(CitiesList)\n",
        "    print (\"Randomly selected item from Cities list is - \", CitiesItem)\n",
        "\n",
        "DataList = range(10,100,10)\n",
        "print(\"Initial Data List = \",DataList)\n",
        "DataSample = random.sample(DataList,k=5)\n",
        "print(\"Sample Data List = \",DataSample)"
      ]
    }
  ]
}