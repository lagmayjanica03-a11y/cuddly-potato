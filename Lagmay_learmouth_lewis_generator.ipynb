{
  "nbformat": 4,
  "nbformat_minor": 0,
  "metadata": {
    "colab": {
      "provenance": [],
      "authorship_tag": "ABX9TyNdpHypbspbcyXg0QOovORK",
      "include_colab_link": true
    },
    "kernelspec": {
      "name": "python3",
      "display_name": "Python 3"
    },
    "language_info": {
      "name": "python"
    }
  },
  "cells": [
    {
      "cell_type": "markdown",
      "metadata": {
        "id": "view-in-github",
        "colab_type": "text"
      },
      "source": [
        "<a href=\"https://colab.research.google.com/github/lagmayjanica03-a11y/cuddly-potato/blob/main/Lagmay_learmouth_lewis_generator.ipynb\" target=\"_parent\"><img src=\"https://colab.research.google.com/assets/colab-badge.svg\" alt=\"Open In Colab\"/></a>"
      ]
    },
    {
      "cell_type": "code",
      "execution_count": null,
      "metadata": {
        "colab": {
          "base_uri": "https://localhost:8080/"
        },
        "id": "O4gcX3tEPXpW",
        "outputId": "5b4f4d6d-7b2a-4f45-d4f7-445bcc6b628a"
      },
      "outputs": [
        {
          "output_type": "stream",
          "name": "stdout",
          "text": [
            "2\n",
            "3\n",
            "5\n",
            "8\n",
            "13\n",
            "21\n",
            "34\n",
            "55\n",
            "89\n",
            "144\n",
            "233\n",
            "377\n",
            "610\n",
            "987\n",
            "1597\n",
            "2584\n",
            "4181\n",
            "6765\n",
            "10946\n",
            "17711\n",
            "28657\n",
            "46368\n",
            "75025\n",
            "121393\n",
            "196418\n",
            "317811\n",
            "514229\n",
            "832040\n",
            "1346269\n",
            "2178309\n",
            "3524578\n",
            "5702887\n",
            "9227465\n",
            "14930352\n",
            "24157817\n",
            "39088169\n",
            "63245986\n",
            "102334155\n",
            "165580141\n",
            "267914296\n",
            "433494437\n",
            "701408733\n",
            "1134903170\n",
            "1836311903\n",
            "2971215073\n",
            "512559680\n",
            "3483774753\n",
            "3996334433\n",
            "3185141890\n",
            "2886509027\n",
            "1776683621\n",
            "368225352\n",
            "2144908973\n",
            "2513134325\n",
            "363076002\n",
            "2876210327\n",
            "3239286329\n",
            "1820529360\n",
            "764848393\n",
            "2585377753\n",
            "3350226146\n",
            "1640636603\n",
            "695895453\n",
            "2336532056\n",
            "3032427509\n",
            "1073992269\n",
            "4106419778\n",
            "885444751\n",
            "696897233\n",
            "1582341984\n",
            "2279239217\n",
            "3861581201\n",
            "1845853122\n",
            "1412467027\n",
            "3258320149\n",
            "375819880\n",
            "3634140029\n",
            "4009959909\n",
            "3349132642\n",
            "3064125255\n",
            "2118290601\n",
            "887448560\n",
            "3005739161\n",
            "3893187721\n",
            "2603959586\n",
            "2202180011\n",
            "511172301\n",
            "2713352312\n",
            "3224524613\n",
            "1642909629\n",
            "572466946\n",
            "2215376575\n",
            "2787843521\n",
            "708252800\n",
            "3496096321\n",
            "4204349121\n",
            "3405478146\n",
            "3314859971\n",
            "2425370821\n",
            "1445263496\n"
          ]
        }
      ],
      "source": [
        "import numpy as np\n",
        "x0=1\n",
        "x1=1\n",
        "m=2**32\n",
        "\n",
        "for i in range (1,101):\n",
        "    x= np.mod((x0+x1), m)\n",
        "    x0=x1\n",
        "    x1=x\n",
        "    print(x)"
      ]
    }
  ]
}