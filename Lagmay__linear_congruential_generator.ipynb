{
  "nbformat": 4,
  "nbformat_minor": 0,
  "metadata": {
    "colab": {
      "provenance": [],
      "authorship_tag": "ABX9TyM99TSVm2KcXf8rNEUxaFXU",
      "include_colab_link": true
    },
    "kernelspec": {
      "name": "python3",
      "display_name": "Python 3"
    },
    "language_info": {
      "name": "python"
    }
  },
  "cells": [
    {
      "cell_type": "markdown",
      "metadata": {
        "id": "view-in-github",
        "colab_type": "text"
      },
      "source": [
        "<a href=\"https://colab.research.google.com/github/lagmayjanica03-a11y/cuddly-potato/blob/main/Lagmay__linear_congruential_generator.ipynb\" target=\"_parent\"><img src=\"https://colab.research.google.com/assets/colab-badge.svg\" alt=\"Open In Colab\"/></a>"
      ]
    },
    {
      "cell_type": "code",
      "execution_count": null,
      "metadata": {
        "colab": {
          "base_uri": "https://localhost:8080/"
        },
        "id": "Sc9Rnq4wOmnT",
        "outputId": "a3a61cec-be2b-453c-89e6-5ebca5d33d9a"
      },
      "outputs": [
        {
          "output_type": "stream",
          "name": "stdout",
          "text": [
            "0\n",
            "4\n",
            "2\n",
            "3\n",
            "0\n",
            "4\n",
            "2\n",
            "3\n",
            "0\n",
            "4\n",
            "2\n",
            "3\n",
            "0\n",
            "4\n",
            "2\n",
            "3\n"
          ]
        }
      ],
      "source": []
    }
  ]
}